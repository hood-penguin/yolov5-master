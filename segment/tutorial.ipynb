version https://git-lfs.github.com/spec/v1
oid sha256:462cb8d04fcef5fb1fa33bad5967d7d3534af0d670e5e796f00b66d906a582f6
size 50146
